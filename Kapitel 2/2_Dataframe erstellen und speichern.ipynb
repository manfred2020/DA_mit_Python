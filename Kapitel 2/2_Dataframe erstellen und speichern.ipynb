{
 "cells": [
  {
   "cell_type": "markdown",
   "metadata": {},
   "source": [
    "# 2) Dataframe erstellen und speichern\n",
    "\n",
    "Zu Beginn wird - wie in allen folgenden Kapiteln auch - das Paket **Pandas** importiert, und zwar mit der Abkürzung **pd**, so dass bei jeglicher weiteren Verwendung des Pakets nur mehr **pd** geschrieben werden muss, der Schreibaufwand also minimiert wird. **pd** ist dabei die international übliche Abkürzung für das Importieren von **Pandas** in der Python Community und sollte einheitlich auch in eigenen Scripts oder Programmen so verwendet werden."
   ]
  },
  {
   "cell_type": "code",
   "execution_count": 41,
   "metadata": {},
   "outputs": [],
   "source": [
    "import pandas as pd"
   ]
  },
  {
   "cell_type": "markdown",
   "metadata": {},
   "source": [
    "### 2.1) Dataframe aus selbst (in Python) eingegebenen Variablen und Werten erstellen\n",
    "\n",
    "Bevor in Kapitel 4 echte Daten aus bereits vorhandenen Datenfiles geladen bzw. importiert werden, sehen wir uns im Folgenden einige Möglichkeiten an, wie man direkt in Python Variablen und dazugehörige Werte eingibt und daraus ein Dataframe (eine zweidimensionale tabellarische Datenstruktur; also Zeilen und Spalten - wie man es bspw. von Excel oder SPSS kennt) erstellt.\n",
    "\n",
    "[Pandas DataFrame](https://www.geeksforgeeks.org/python-pandas-dataframe/)\n",
    "\n",
    "[pandas.DataFrame](https://pandas.pydata.org/pandas-docs/stable/reference/api/pandas.DataFrame.html)\n",
    "\n",
    "[Different ways to create Pandas Dataframe](https://www.geeksforgeeks.org/different-ways-to-create-pandas-dataframe/)\n",
    "\n",
    "Es gibt auch noch weitere Möglichkeiten, als die vier nachfolgend angeführten..."
   ]
  },
  {
   "cell_type": "markdown",
   "metadata": {},
   "source": [
    "##### Beispiel 1\n",
    "\n",
    "Zuerst wird dem Objekt *daten1* ein Dictionary mit Markennamen sowie Preisen zugewiesen, danach wird mit der Funktion **pd.DataFrame()** das Dataframe *df1* (df ist eine häufig verwendete Abkürzung für Dataframe) erstellt, indem ihm das Objekt test1 zugewiesen wird und als Spalten(Variablen)namen *Marke* und *Preis* übergeben werden."
   ]
  },
  {
   "cell_type": "code",
   "execution_count": 42,
   "metadata": {},
   "outputs": [],
   "source": [
    "daten1={'Marke': ['Nike','Puma','Adidas','Lacoste'], 'Preis': [35, 30, 30, 45]}\n",
    "\n",
    "df1 = pd.DataFrame(daten1 ,columns= ['Marke', 'Preis'])"
   ]
  },
  {
   "cell_type": "markdown",
   "metadata": {},
   "source": [
    "Durch Eingabe des Dataframenamens *df1* erhält man bereits den Output - die tabellarische Darstellung des Dataframeinhalts. Der Zeilenindex ganz links wird übrigens von **Pandas** automatisch erstellt (und wird nicht zu den Spalten gezählt - das Dataframe enthält somit 2 Spalten (unsere beiden Variablen *Marke* und *Preis*))."
   ]
  },
  {
   "cell_type": "code",
   "execution_count": 6,
   "metadata": {},
   "outputs": [
    {
     "data": {
      "text/html": [
       "<div>\n",
       "<style scoped>\n",
       "    .dataframe tbody tr th:only-of-type {\n",
       "        vertical-align: middle;\n",
       "    }\n",
       "\n",
       "    .dataframe tbody tr th {\n",
       "        vertical-align: top;\n",
       "    }\n",
       "\n",
       "    .dataframe thead th {\n",
       "        text-align: right;\n",
       "    }\n",
       "</style>\n",
       "<table border=\"1\" class=\"dataframe\">\n",
       "  <thead>\n",
       "    <tr style=\"text-align: right;\">\n",
       "      <th></th>\n",
       "      <th>Marke</th>\n",
       "      <th>Preis</th>\n",
       "    </tr>\n",
       "  </thead>\n",
       "  <tbody>\n",
       "    <tr>\n",
       "      <th>0</th>\n",
       "      <td>Nike</td>\n",
       "      <td>35</td>\n",
       "    </tr>\n",
       "    <tr>\n",
       "      <th>1</th>\n",
       "      <td>Puma</td>\n",
       "      <td>30</td>\n",
       "    </tr>\n",
       "    <tr>\n",
       "      <th>2</th>\n",
       "      <td>Adidas</td>\n",
       "      <td>30</td>\n",
       "    </tr>\n",
       "    <tr>\n",
       "      <th>3</th>\n",
       "      <td>Lacoste</td>\n",
       "      <td>45</td>\n",
       "    </tr>\n",
       "  </tbody>\n",
       "</table>\n",
       "</div>"
      ],
      "text/plain": [
       "     Marke  Preis\n",
       "0     Nike     35\n",
       "1     Puma     30\n",
       "2   Adidas     30\n",
       "3  Lacoste     45"
      ]
     },
     "execution_count": 6,
     "metadata": {},
     "output_type": "execute_result"
    }
   ],
   "source": [
    "df1"
   ]
  },
  {
   "cell_type": "markdown",
   "metadata": {},
   "source": [
    "##### Beispiel 2\n",
    "\n",
    "Wie voriges Beispiel, jedoch ohne extra Angabe der Spaltennamen (ist auch nicht nötig, wenn man alle im Dictionary enthaltenen Spalten übernehmen will. Möchte man nicht alle Spalten ins Dataframe übernehmen, so könnte man in diesem Beispiel auch nur *columns=['Fisch']* angeben, *Länge* würde dann nicht im Dataframe enthalten sein)."
   ]
  },
  {
   "cell_type": "code",
   "execution_count": 7,
   "metadata": {},
   "outputs": [],
   "source": [
    "daten2 = {'Fisch':['Karpfen', 'Hecht', 'Forelle', 'Wels'], 'Länge':[55, 70, 40, 90]} \n",
    "  \n",
    "df2 = pd.DataFrame(daten2) "
   ]
  },
  {
   "cell_type": "markdown",
   "metadata": {},
   "source": [
    "Und hier der Output nach Eingabe von *df2*, dem Namen des Dataframes aus Bsp. 2."
   ]
  },
  {
   "cell_type": "code",
   "execution_count": 8,
   "metadata": {},
   "outputs": [
    {
     "data": {
      "text/html": [
       "<div>\n",
       "<style scoped>\n",
       "    .dataframe tbody tr th:only-of-type {\n",
       "        vertical-align: middle;\n",
       "    }\n",
       "\n",
       "    .dataframe tbody tr th {\n",
       "        vertical-align: top;\n",
       "    }\n",
       "\n",
       "    .dataframe thead th {\n",
       "        text-align: right;\n",
       "    }\n",
       "</style>\n",
       "<table border=\"1\" class=\"dataframe\">\n",
       "  <thead>\n",
       "    <tr style=\"text-align: right;\">\n",
       "      <th></th>\n",
       "      <th>Fisch</th>\n",
       "      <th>Länge</th>\n",
       "    </tr>\n",
       "  </thead>\n",
       "  <tbody>\n",
       "    <tr>\n",
       "      <th>0</th>\n",
       "      <td>Karpfen</td>\n",
       "      <td>55</td>\n",
       "    </tr>\n",
       "    <tr>\n",
       "      <th>1</th>\n",
       "      <td>Hecht</td>\n",
       "      <td>70</td>\n",
       "    </tr>\n",
       "    <tr>\n",
       "      <th>2</th>\n",
       "      <td>Forelle</td>\n",
       "      <td>40</td>\n",
       "    </tr>\n",
       "    <tr>\n",
       "      <th>3</th>\n",
       "      <td>Wels</td>\n",
       "      <td>90</td>\n",
       "    </tr>\n",
       "  </tbody>\n",
       "</table>\n",
       "</div>"
      ],
      "text/plain": [
       "     Fisch  Länge\n",
       "0  Karpfen     55\n",
       "1    Hecht     70\n",
       "2  Forelle     40\n",
       "3     Wels     90"
      ]
     },
     "execution_count": 8,
     "metadata": {},
     "output_type": "execute_result"
    }
   ],
   "source": [
    "df2"
   ]
  },
  {
   "cell_type": "markdown",
   "metadata": {},
   "source": [
    "##### Beispiel 3\n",
    "\n",
    "Die Erstellung des Dictionarys mit den Spaltennamen und dazugehörigen Werten unterscheidet sich nicht von Bsp. 1 bzw. 2. Jedoch wird nun im Rahmen der Erstellung des Dataframes (zweite Codezeile) ein eigener Index (anstelle des wie in Bsp. 1 und 2 automatisch von **Pandas** vergebenen Index) zugewiesen. Ein solcher Index könnte bspw. auch die Fragebogennummer bzw. lfd. Nummer sein (dies sollte man, bspw. falls Daten später kontrolliert bzw. nachgeprüft werden, immer in Datenfiles haben!)."
   ]
  },
  {
   "cell_type": "code",
   "execution_count": 9,
   "metadata": {},
   "outputs": [],
   "source": [
    "daten3 = {'Stadt':['Wien', 'Graz', 'Salzburg', 'Fürstenfeld'], 'Einwohner':[1800000, 280000, 160000, 5000]} \n",
    "\n",
    "df3 = pd.DataFrame(daten3, index =['Rang 1', 'Rang 2', 'Rang 3', 'Rang 4'])"
   ]
  },
  {
   "cell_type": "markdown",
   "metadata": {},
   "source": [
    "Die Outputtabelle enthält nun den selbst vergebenen Index und nicht einen automatisch von **Pandas** vergebenen."
   ]
  },
  {
   "cell_type": "code",
   "execution_count": 11,
   "metadata": {},
   "outputs": [
    {
     "data": {
      "text/html": [
       "<div>\n",
       "<style scoped>\n",
       "    .dataframe tbody tr th:only-of-type {\n",
       "        vertical-align: middle;\n",
       "    }\n",
       "\n",
       "    .dataframe tbody tr th {\n",
       "        vertical-align: top;\n",
       "    }\n",
       "\n",
       "    .dataframe thead th {\n",
       "        text-align: right;\n",
       "    }\n",
       "</style>\n",
       "<table border=\"1\" class=\"dataframe\">\n",
       "  <thead>\n",
       "    <tr style=\"text-align: right;\">\n",
       "      <th></th>\n",
       "      <th>Stadt</th>\n",
       "      <th>Einwohner</th>\n",
       "    </tr>\n",
       "  </thead>\n",
       "  <tbody>\n",
       "    <tr>\n",
       "      <th>Rang 1</th>\n",
       "      <td>Wien</td>\n",
       "      <td>1800000</td>\n",
       "    </tr>\n",
       "    <tr>\n",
       "      <th>Rang 2</th>\n",
       "      <td>Graz</td>\n",
       "      <td>280000</td>\n",
       "    </tr>\n",
       "    <tr>\n",
       "      <th>Rang 3</th>\n",
       "      <td>Salzburg</td>\n",
       "      <td>160000</td>\n",
       "    </tr>\n",
       "    <tr>\n",
       "      <th>Rang 4</th>\n",
       "      <td>Fürstenfeld</td>\n",
       "      <td>5000</td>\n",
       "    </tr>\n",
       "  </tbody>\n",
       "</table>\n",
       "</div>"
      ],
      "text/plain": [
       "              Stadt  Einwohner\n",
       "Rang 1         Wien    1800000\n",
       "Rang 2         Graz     280000\n",
       "Rang 3     Salzburg     160000\n",
       "Rang 4  Fürstenfeld       5000"
      ]
     },
     "execution_count": 11,
     "metadata": {},
     "output_type": "execute_result"
    }
   ],
   "source": [
    "df3"
   ]
  },
  {
   "cell_type": "markdown",
   "metadata": {},
   "source": [
    "##### Beispiel 4\n",
    "\n",
    "Das letzte Beispiel geht nun bei der Eingabe der Spaltennamen und der Werte einen anderen Weg als die drei vorhergehenden Beispiele. Nun werden dem Objekt *daten4* zuerst ausschließlich die Werte für die beiden Spalten in Form einer Liste übergeben. Im Zuge der Erstellung des Dataframes werden schließlich die beiden Spaltennamen übergeben."
   ]
  },
  {
   "cell_type": "code",
   "execution_count": 12,
   "metadata": {},
   "outputs": [],
   "source": [
    "daten4 = [['Fred', 180], ['Susi', 165], ['Max', 190], ['Andrea', 175]] \n",
    "  \n",
    "df4 = pd.DataFrame(daten4, columns = ['Name', 'Größe']) "
   ]
  },
  {
   "cell_type": "markdown",
   "metadata": {},
   "source": [
    "Für den Output spielt dies alles keine Rolle. Abgesehen vom Inhalt ändert sich bei allen vier gezeigten Beispielen nichts am Aufbau oder der Funktionalität der Tabelle."
   ]
  },
  {
   "cell_type": "code",
   "execution_count": 13,
   "metadata": {},
   "outputs": [
    {
     "data": {
      "text/html": [
       "<div>\n",
       "<style scoped>\n",
       "    .dataframe tbody tr th:only-of-type {\n",
       "        vertical-align: middle;\n",
       "    }\n",
       "\n",
       "    .dataframe tbody tr th {\n",
       "        vertical-align: top;\n",
       "    }\n",
       "\n",
       "    .dataframe thead th {\n",
       "        text-align: right;\n",
       "    }\n",
       "</style>\n",
       "<table border=\"1\" class=\"dataframe\">\n",
       "  <thead>\n",
       "    <tr style=\"text-align: right;\">\n",
       "      <th></th>\n",
       "      <th>Name</th>\n",
       "      <th>Größe</th>\n",
       "    </tr>\n",
       "  </thead>\n",
       "  <tbody>\n",
       "    <tr>\n",
       "      <th>0</th>\n",
       "      <td>Fred</td>\n",
       "      <td>180</td>\n",
       "    </tr>\n",
       "    <tr>\n",
       "      <th>1</th>\n",
       "      <td>Susi</td>\n",
       "      <td>165</td>\n",
       "    </tr>\n",
       "    <tr>\n",
       "      <th>2</th>\n",
       "      <td>Max</td>\n",
       "      <td>190</td>\n",
       "    </tr>\n",
       "    <tr>\n",
       "      <th>3</th>\n",
       "      <td>Andrea</td>\n",
       "      <td>175</td>\n",
       "    </tr>\n",
       "  </tbody>\n",
       "</table>\n",
       "</div>"
      ],
      "text/plain": [
       "     Name  Größe\n",
       "0    Fred    180\n",
       "1    Susi    165\n",
       "2     Max    190\n",
       "3  Andrea    175"
      ]
     },
     "execution_count": 13,
     "metadata": {},
     "output_type": "execute_result"
    }
   ],
   "source": [
    "df4"
   ]
  },
  {
   "cell_type": "markdown",
   "metadata": {},
   "source": [
    "### 2.2) Dataframe aus Zufallszahlen erstellen\n",
    "\n",
    "\n",
    "Um div. Analysen bzw. Vorgehensweisen mit umfangreicherem Datenmaterial zu simulieren bzw. zu testen, bietet es sich an, die Daten nicht wie vorhin selbst einzutippen, sondern eine beliebige Anzahl von Daten automatisch erstellen zu lassen. Zu diesem Zweck wird vorab das Paket **numpy** mit der Abkürzung **np** importiert.\n",
    "\n",
    "[numpy.random](https://docs.scipy.org/doc/numpy-1.16.0/reference/routines.random.html)"
   ]
  },
  {
   "cell_type": "code",
   "execution_count": 14,
   "metadata": {},
   "outputs": [],
   "source": [
    "import numpy as np"
   ]
  },
  {
   "cell_type": "markdown",
   "metadata": {},
   "source": [
    "Nun werden zwei Zahlenreihen mit jeweils 5 Zahlen erstellt und den beiden Objekten *a* bzw. *b* zugewiesen. Das Modul **random** im Paket **numpy** enhält die Funktion **randn()**, welche normalverteilte (Mittelwert = 0, Standardabweichung = 1) Zufallszahlen generiert.\n",
    "\n",
    "[numpy.random.randn](https://docs.scipy.org/doc/numpy-1.16.0/reference/generated/numpy.random.randn.html#numpy.random.randn)"
   ]
  },
  {
   "cell_type": "code",
   "execution_count": 16,
   "metadata": {},
   "outputs": [],
   "source": [
    "a, b=np.random.randn(5), np.random.randn(5)"
   ]
  },
  {
   "cell_type": "markdown",
   "metadata": {},
   "source": [
    "Jetzt wird ein Dataframe gebildet und anschließend aufgerufen, welches aber noch leer ist...\n",
    "\n",
    "[pandas.DataFrame](https://pandas.pydata.org/pandas-docs/stable/reference/api/pandas.DataFrame.html#pandas.DataFrame)"
   ]
  },
  {
   "cell_type": "code",
   "execution_count": 17,
   "metadata": {},
   "outputs": [
    {
     "data": {
      "text/html": [
       "<div>\n",
       "<style scoped>\n",
       "    .dataframe tbody tr th:only-of-type {\n",
       "        vertical-align: middle;\n",
       "    }\n",
       "\n",
       "    .dataframe tbody tr th {\n",
       "        vertical-align: top;\n",
       "    }\n",
       "\n",
       "    .dataframe thead th {\n",
       "        text-align: right;\n",
       "    }\n",
       "</style>\n",
       "<table border=\"1\" class=\"dataframe\">\n",
       "  <thead>\n",
       "    <tr style=\"text-align: right;\">\n",
       "      <th></th>\n",
       "    </tr>\n",
       "  </thead>\n",
       "  <tbody>\n",
       "  </tbody>\n",
       "</table>\n",
       "</div>"
      ],
      "text/plain": [
       "Empty DataFrame\n",
       "Columns: []\n",
       "Index: []"
      ]
     },
     "execution_count": 17,
     "metadata": {},
     "output_type": "execute_result"
    }
   ],
   "source": [
    "daten=pd.DataFrame()\n",
    "\n",
    "daten #noch sind aber keine Daten enthalten"
   ]
  },
  {
   "cell_type": "markdown",
   "metadata": {},
   "source": [
    "Vorhin erstellte Objekte *a* und *b* werden dem Dataframe nun als Spalten hinzugefügt und mit *'a'* bzw. *'b'* bezeichnet. Das Dataframe ist nun fertig, d.h. enthält die Spalten und alle Werte."
   ]
  },
  {
   "cell_type": "code",
   "execution_count": 18,
   "metadata": {},
   "outputs": [
    {
     "data": {
      "text/html": [
       "<div>\n",
       "<style scoped>\n",
       "    .dataframe tbody tr th:only-of-type {\n",
       "        vertical-align: middle;\n",
       "    }\n",
       "\n",
       "    .dataframe tbody tr th {\n",
       "        vertical-align: top;\n",
       "    }\n",
       "\n",
       "    .dataframe thead th {\n",
       "        text-align: right;\n",
       "    }\n",
       "</style>\n",
       "<table border=\"1\" class=\"dataframe\">\n",
       "  <thead>\n",
       "    <tr style=\"text-align: right;\">\n",
       "      <th></th>\n",
       "      <th>a</th>\n",
       "      <th>b</th>\n",
       "    </tr>\n",
       "  </thead>\n",
       "  <tbody>\n",
       "    <tr>\n",
       "      <th>0</th>\n",
       "      <td>-0.559557</td>\n",
       "      <td>1.846739</td>\n",
       "    </tr>\n",
       "    <tr>\n",
       "      <th>1</th>\n",
       "      <td>0.036927</td>\n",
       "      <td>-0.149977</td>\n",
       "    </tr>\n",
       "    <tr>\n",
       "      <th>2</th>\n",
       "      <td>0.416435</td>\n",
       "      <td>0.971309</td>\n",
       "    </tr>\n",
       "    <tr>\n",
       "      <th>3</th>\n",
       "      <td>-0.279310</td>\n",
       "      <td>0.649311</td>\n",
       "    </tr>\n",
       "    <tr>\n",
       "      <th>4</th>\n",
       "      <td>-0.894852</td>\n",
       "      <td>-0.741944</td>\n",
       "    </tr>\n",
       "  </tbody>\n",
       "</table>\n",
       "</div>"
      ],
      "text/plain": [
       "          a         b\n",
       "0 -0.559557  1.846739\n",
       "1  0.036927 -0.149977\n",
       "2  0.416435  0.971309\n",
       "3 -0.279310  0.649311\n",
       "4 -0.894852 -0.741944"
      ]
     },
     "execution_count": 18,
     "metadata": {},
     "output_type": "execute_result"
    }
   ],
   "source": [
    "daten ['a']=a\n",
    "daten ['b']=b\n",
    "\n",
    "daten #nun sind die vorhin erstellten Zahlen enthalten"
   ]
  },
  {
   "cell_type": "markdown",
   "metadata": {},
   "source": [
    "##### Noch schneller geht's mit folgender direkten Methode\n",
    "\n",
    "Die Erstellung des Dataframes, die Bennenung der Spalten sowie die Generierung der Zufallszahlen für beide Spalten können auch leicht in einer einzigen Codezeile eingegeben werden"
   ]
  },
  {
   "cell_type": "code",
   "execution_count": 19,
   "metadata": {},
   "outputs": [],
   "source": [
    "df = pd.DataFrame({'A': np.random.randn(5), 'B': np.random.randn(5)})"
   ]
  },
  {
   "cell_type": "markdown",
   "metadata": {},
   "source": [
    "Hier das erstellte Dataframe:"
   ]
  },
  {
   "cell_type": "code",
   "execution_count": 20,
   "metadata": {},
   "outputs": [
    {
     "data": {
      "text/html": [
       "<div>\n",
       "<style scoped>\n",
       "    .dataframe tbody tr th:only-of-type {\n",
       "        vertical-align: middle;\n",
       "    }\n",
       "\n",
       "    .dataframe tbody tr th {\n",
       "        vertical-align: top;\n",
       "    }\n",
       "\n",
       "    .dataframe thead th {\n",
       "        text-align: right;\n",
       "    }\n",
       "</style>\n",
       "<table border=\"1\" class=\"dataframe\">\n",
       "  <thead>\n",
       "    <tr style=\"text-align: right;\">\n",
       "      <th></th>\n",
       "      <th>A</th>\n",
       "      <th>B</th>\n",
       "    </tr>\n",
       "  </thead>\n",
       "  <tbody>\n",
       "    <tr>\n",
       "      <th>0</th>\n",
       "      <td>0.576836</td>\n",
       "      <td>-1.133062</td>\n",
       "    </tr>\n",
       "    <tr>\n",
       "      <th>1</th>\n",
       "      <td>-0.439138</td>\n",
       "      <td>-0.362752</td>\n",
       "    </tr>\n",
       "    <tr>\n",
       "      <th>2</th>\n",
       "      <td>2.080693</td>\n",
       "      <td>3.443330</td>\n",
       "    </tr>\n",
       "    <tr>\n",
       "      <th>3</th>\n",
       "      <td>-1.560012</td>\n",
       "      <td>0.496491</td>\n",
       "    </tr>\n",
       "    <tr>\n",
       "      <th>4</th>\n",
       "      <td>1.456778</td>\n",
       "      <td>-0.714044</td>\n",
       "    </tr>\n",
       "  </tbody>\n",
       "</table>\n",
       "</div>"
      ],
      "text/plain": [
       "          A         B\n",
       "0  0.576836 -1.133062\n",
       "1 -0.439138 -0.362752\n",
       "2  2.080693  3.443330\n",
       "3 -1.560012  0.496491\n",
       "4  1.456778 -0.714044"
      ]
     },
     "execution_count": 20,
     "metadata": {},
     "output_type": "execute_result"
    }
   ],
   "source": [
    "df"
   ]
  },
  {
   "cell_type": "markdown",
   "metadata": {},
   "source": [
    "##### Streudiagramm\n",
    "\n",
    "Diagramme und Korrelationsanalysen sind zwar erst Thema späterer Kapitel (und werden dort erklärt), jedoch bietet es sich an dieser Stelle an, die normalverteilten Zufallszahlen genauer zu betrachten, d.h. die beiden Variablen miteinander abzubilden. Da es sich um zwei normalverteilte Zufallsvariablen handelt, wird die Korrelation zwischen beiden Variablen zumeist eher gering sein. Mit zunehmender Fallzahl wird sie immer öfter nahe bei Null liegen."
   ]
  },
  {
   "cell_type": "code",
   "execution_count": 21,
   "metadata": {},
   "outputs": [
    {
     "data": {
      "image/png": "[encoded data removed]",
      "text/plain": [
       "<Figure size 432x288 with 1 Axes>"
      ]
     },
     "metadata": {
      "needs_background": "light"
     },
     "output_type": "display_data"
    }
   ],
   "source": [
    "ax=daten.plot.scatter(x='a', y='b', c='green') # x und y bezeichnen die Variablen, c bezeichnet die Farbe der Punkte im Streudiagramm"
   ]
  },
  {
   "cell_type": "code",
   "execution_count": 22,
   "metadata": {},
   "outputs": [
    {
     "name": "stdout",
     "output_type": "stream",
     "text": [
      "\n",
      "Korrelationskoeffizient nach Pearson\n"
     ]
    },
    {
     "data": {
      "text/html": [
       "<div>\n",
       "<style scoped>\n",
       "    .dataframe tbody tr th:only-of-type {\n",
       "        vertical-align: middle;\n",
       "    }\n",
       "\n",
       "    .dataframe tbody tr th {\n",
       "        vertical-align: top;\n",
       "    }\n",
       "\n",
       "    .dataframe thead th {\n",
       "        text-align: right;\n",
       "    }\n",
       "</style>\n",
       "<table border=\"1\" class=\"dataframe\">\n",
       "  <thead>\n",
       "    <tr style=\"text-align: right;\">\n",
       "      <th></th>\n",
       "      <th>a</th>\n",
       "      <th>b</th>\n",
       "    </tr>\n",
       "  </thead>\n",
       "  <tbody>\n",
       "    <tr>\n",
       "      <th>a</th>\n",
       "      <td>1.000</td>\n",
       "      <td>0.248</td>\n",
       "    </tr>\n",
       "    <tr>\n",
       "      <th>b</th>\n",
       "      <td>0.248</td>\n",
       "      <td>1.000</td>\n",
       "    </tr>\n",
       "  </tbody>\n",
       "</table>\n",
       "</div>"
      ],
      "text/plain": [
       "       a      b\n",
       "a  1.000  0.248\n",
       "b  0.248  1.000"
      ]
     },
     "execution_count": 22,
     "metadata": {},
     "output_type": "execute_result"
    }
   ],
   "source": [
    "print(\"\\nKorrelationskoeffizient nach Pearson\")\n",
    "daten.corr(method='pearson').round(3)"
   ]
  },
  {
   "cell_type": "markdown",
   "metadata": {},
   "source": [
    "### 2.3) Speichern des Datenfiles/Dataframes\n",
    "\n",
    "Ein Dataframe sollte - sofern man es zu einem späteren Zeitpunkt wieder verwenden möchte - natürlich auch gespeichert werden. Nachfolgend wurde rund um die Funktion **to_csv()** eine einfache Funktion geschrieben, die einerseits nachfragt, ob gespeichert werden soll oder nicht und andererseits auch die Eingabe eines Dateinamens erlaubt. Gespeichert wird die Datei dann im CSV-Format, d.h. als Datei, in denen die einzelnen Spalten durch ein Komma getrennt sind.\n",
    "\n",
    "[How to Export Pandas DataFrame to a CSV File](https://datatofish.com/export-dataframe-to-csv/)\n",
    "\n",
    "[Saving a pandas Dataframe as a CSV File](https://medium.com/@waliamrinal/saving-a-pandas-dataframe-as-a-csv-file-4f8b74b7a1bc)\n",
    "\n",
    "[Saving a Pandas Dataframe as a CSV](https://www.geeksforgeeks.org/saving-a-pandas-dataframe-as-a-csv/)\n",
    "\n",
    "[How to avoid Python/Pandas creating an index in a saved csv?](https://stackoverflow.com/questions/20845213/how-to-avoid-python-pandas-creating-an-index-in-a-saved-csv)\n",
    "\n",
    "[pandas.DataFrame.to_csv](https://pandas.pydata.org/pandas-docs/stable/reference/api/pandas.DataFrame.to_csv.html)\n",
    "\n",
    "Durch die Angabe von *index=False* wird vermieden, dass bei jedem Speichervorgang ein neuer (zusätzlicher) Zeilenindex eingefügt wird!"
   ]
  },
  {
   "cell_type": "code",
   "execution_count": 23,
   "metadata": {},
   "outputs": [],
   "source": [
    "def save(df):\n",
    "    speichern=input(\"Dataframe \\n\\n{}\\n\\n als CSV File speichern? j/n \".format(df.head(3)))\n",
    "    if speichern==\"j\":\n",
    "        file=input(\"\\n Filename: \")\n",
    "        df.to_csv(\"C:\\\\Datenfiles\\\\{}.csv\".format(file), index=False) #'index=False' ist relevant!\n",
    "        print('File {} wurde gespeichert'.format(file))\n",
    "    elif speichern==\"n\":\n",
    "        print(\"\\n Ok, nicht speichern...\")\n",
    "    else:\n",
    "        print(\"\\n Ungültige Eingabe!\")\n",
    "        save(df)\n",
    "\n",
    "# Speichern des neuen Dataframes - ev. als eigenes Modul auslagern und erweitern (Pfadangabe usw.)"
   ]
  },
  {
   "cell_type": "markdown",
   "metadata": {},
   "source": [
    "Wird die Funktion mit **save(df)** (*df* steht für den Namen des zu speichernden Dataframes) aufgerufen, wird auch noch eine dreizeilige Ansicht des zu speichernden Dataframes angezeigt. Somit kann man nochmals kurz prüfen, ob man das richtige Dataframe speichert."
   ]
  },
  {
   "cell_type": "code",
   "execution_count": 24,
   "metadata": {},
   "outputs": [
    {
     "name": "stdout",
     "output_type": "stream",
     "text": [
      "Dataframe \n",
      "\n",
      "          a         b\n",
      "0 -0.559557  1.846739\n",
      "1  0.036927 -0.149977\n",
      "2  0.416435  0.971309\n",
      "\n",
      " als CSV File speichern? j/n n\n",
      "\n",
      " Ok, nicht speichern...\n"
     ]
    }
   ],
   "source": [
    "save(daten) #'daten' = Name des zu speichernden Dataframes!"
   ]
  },
  {
   "cell_type": "markdown",
   "metadata": {},
   "source": [
    "##### Kurzversion\n",
    "\n",
    "Dabei wird das Dataframe nicht mehr angezeigt und auch nicht nachgefragt, ob man wirklich speichern möchte."
   ]
  },
  {
   "cell_type": "code",
   "execution_count": 25,
   "metadata": {},
   "outputs": [],
   "source": [
    "daten.to_csv(\"C:\\\\Datenfiles\\\\testversion.csv\", index=False) #'daten' steht für den Namen des zu speichernden Dataframes"
   ]
  },
  {
   "cell_type": "markdown",
   "metadata": {},
   "source": [
    "##### In die Zwischenablage kopieren, für die Weiterverwendung in beliebigen anderen Programmen\n",
    "\n",
    "Mit der Funktion **to_clipboard()** können beliebige Ausschnitte eines Dataframes (oder auch das ganze Dataframe) in die Windows Zwischenablage kopiert und danach in anderen Programmen (z.B. Excel, Word, usw.) eingefügt und weiterverwendet werden.\n",
    "\n",
    "[pandas.DataFrame.to_clipboard](https://pandas.pydata.org/pandas-docs/stable/reference/api/pandas.DataFrame.to_clipboard.html)"
   ]
  },
  {
   "cell_type": "code",
   "execution_count": 26,
   "metadata": {},
   "outputs": [],
   "source": [
    "daten.head(3).round(2).to_clipboard() #kopiert die Outputtabelle in die Windows Zwischenablage\n",
    "#(allerdings mit . als Dezimaltrennzeichen, somit Probleme bspw. beim Einfügen in Excel weil Kommazahlen nicht erkannt!)"
   ]
  },
  {
   "cell_type": "markdown",
   "metadata": {},
   "source": [
    "| |a|b|\n",
    "|-|-|-|\n",
    "|0|-0.39|1.22|\n",
    "|1|2.19|2.17|\n",
    "|2|-2.66|-1.44|\n"
   ]
  },
  {
   "cell_type": "markdown",
   "metadata": {},
   "source": [
    "### 2.4) Aktuelles Arbeitsverzeichnis identifizieren und ev. ändern\n",
    "\n",
    "Man kann das aktuelle Arbeitsverzeichnis - also jenes Verzeichnis, aus dem Files geladen werden bzw. in dem Files gespeichert werden sofern man keinen anderen Pfad angibt - identifizieren. Dazu muss zuerst das Modul **os** importiert werden. In diesem Modul befindet sich die Funktion **getcwd()**, welche wir aufrufen, um das aktuelle Arbeitsverzeichnis in Erfahrung zu bringen.\n",
    "\n",
    "[How to change current working directory in python?](https://thispointer.com/how-to-change-current-working-directory-in-python/)"
   ]
  },
  {
   "cell_type": "code",
   "execution_count": 27,
   "metadata": {},
   "outputs": [],
   "source": [
    "import os"
   ]
  },
  {
   "cell_type": "code",
   "execution_count": 36,
   "metadata": {},
   "outputs": [
    {
     "data": {
      "text/plain": [
       "'C:\\\\Datenfiles'"
      ]
     },
     "execution_count": 36,
     "metadata": {},
     "output_type": "execute_result"
    }
   ],
   "source": [
    "os.getcwd() #Aktuelles Arbeitsverzeichnis"
   ]
  },
  {
   "cell_type": "markdown",
   "metadata": {},
   "source": [
    "Zum Ändern des Arbeitsverzeichnisses (für die aktuelle Sitzung, also nicht dauerhaft für alle Zeiten...) gibt es die Funktion **chdir()**, welcher man den Pfad zum gewünschten neuen Arbeitsverzeichnis übergeben kann. In untenstehender Funktion wird zuerst zudem noch geprüft, ob das gewünschte neue Arbeitsverzeichnis überhaupt existiert (d.h. angelegt ist)."
   ]
  },
  {
   "cell_type": "code",
   "execution_count": 39,
   "metadata": {},
   "outputs": [
    {
     "name": "stdout",
     "output_type": "stream",
     "text": [
      "Arbeitsverzeichnis wurde geändert\n"
     ]
    }
   ],
   "source": [
    "if os.path.exists(\"C:\\\\\"):    \n",
    "    os.chdir(\"C:\\\\\") #Dies soll das neue Arbeitsverzeichnis sein, sofern es existiert\n",
    "    print(\"Arbeitsverzeichnis wurde geändert\")\n",
    "else:\n",
    "    print(\"Änderung nicht möglich, ev. existiert der Ordner nicht...\")  "
   ]
  },
  {
   "cell_type": "markdown",
   "metadata": {},
   "source": [
    "Ein erneuter Aufruf von getcwd() bestätigt, dass das Arbeitsverzeichnis wunschgemäß geändert wurde."
   ]
  },
  {
   "cell_type": "code",
   "execution_count": 40,
   "metadata": {},
   "outputs": [
    {
     "data": {
      "text/plain": [
       "'C:\\\\'"
      ]
     },
     "execution_count": 40,
     "metadata": {},
     "output_type": "execute_result"
    }
   ],
   "source": [
    "os.getcwd()"
   ]
  }
 ],
 "metadata": {
  "kernelspec": {
   "display_name": "Python 3",
   "language": "python",
   "name": "python3"
  },
  "language_info": {
   "codemirror_mode": {
    "name": "ipython",
    "version": 3
   },
   "file_extension": ".py",
   "mimetype": "text/x-python",
   "name": "python",
   "nbconvert_exporter": "python",
   "pygments_lexer": "ipython3",
   "version": "3.7.9"
  }
 },
 "nbformat": 4,
 "nbformat_minor": 2
}
