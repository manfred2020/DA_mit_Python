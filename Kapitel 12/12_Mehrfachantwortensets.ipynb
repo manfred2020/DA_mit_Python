{
 "cells": [
  {
   "cell_type": "markdown",
   "metadata": {},
   "source": [
    "<table style=\"width:100%; background-color:transparent; font-style:italic\">\n",
    "  <tr style=\"background-color:transparent\">   \n",
    "    <td style=\"text-align:left; background-color:transparent\">Datenanalyse mit Python</td>\n",
    "    <td style=\"text-align:right; background-color:transparent\">Manfred Hammerl</td>\n",
    "  </tr>\n",
    "</table>"
   ]
  },
  {
   "cell_type": "markdown",
   "metadata": {},
   "source": [
    "\n",
    "# 12) Mehrfachantworten auswerten\n",
    "\n",
    "Dafür gibt es (noch, meines Wissens nach) keine fertige Funktion in **Pandas** (oder sonst wo), im Folgenden daher eine Schritt für Schritt Lösung, welche im Sinne der Nachvollziehbarkeit durchaus etwas länger ist als für die Erreichung des finalen Ziels nötig.\n",
    "\n",
    "Importieren wird zuerst wieder **Pandas** sowie einen neuen Datensatz, der (fiktive) Daten zur Bekanntheit von 4 Marken enhält. Solche Mehrfachantworten sind typischerweise mit 0/1 kodiert, wobei *1* bsw. für 'kenne die Marke' steht und *0* für 'kenne die Marke nicht'."
   ]
  },
  {
   "cell_type": "code",
   "execution_count": 9,
   "metadata": {},
   "outputs": [
    {
     "data": {
      "text/html": [
       "<div>\n",
       "<style scoped>\n",
       "    .dataframe tbody tr th:only-of-type {\n",
       "        vertical-align: middle;\n",
       "    }\n",
       "\n",
       "    .dataframe tbody tr th {\n",
       "        vertical-align: top;\n",
       "    }\n",
       "\n",
       "    .dataframe thead th {\n",
       "        text-align: right;\n",
       "    }\n",
       "</style>\n",
       "<table border=\"1\" class=\"dataframe\">\n",
       "  <thead>\n",
       "    <tr style=\"text-align: right;\">\n",
       "      <th></th>\n",
       "      <th>nike</th>\n",
       "      <th>head</th>\n",
       "      <th>boss</th>\n",
       "      <th>lacoste</th>\n",
       "    </tr>\n",
       "  </thead>\n",
       "  <tbody>\n",
       "    <tr>\n",
       "      <th>0</th>\n",
       "      <td>1.0</td>\n",
       "      <td>0</td>\n",
       "      <td>0</td>\n",
       "      <td>0</td>\n",
       "    </tr>\n",
       "    <tr>\n",
       "      <th>1</th>\n",
       "      <td>1.0</td>\n",
       "      <td>1</td>\n",
       "      <td>0</td>\n",
       "      <td>0</td>\n",
       "    </tr>\n",
       "    <tr>\n",
       "      <th>2</th>\n",
       "      <td>1.0</td>\n",
       "      <td>1</td>\n",
       "      <td>1</td>\n",
       "      <td>1</td>\n",
       "    </tr>\n",
       "    <tr>\n",
       "      <th>3</th>\n",
       "      <td>0.0</td>\n",
       "      <td>1</td>\n",
       "      <td>0</td>\n",
       "      <td>1</td>\n",
       "    </tr>\n",
       "    <tr>\n",
       "      <th>4</th>\n",
       "      <td>0.0</td>\n",
       "      <td>0</td>\n",
       "      <td>0</td>\n",
       "      <td>0</td>\n",
       "    </tr>\n",
       "    <tr>\n",
       "      <th>5</th>\n",
       "      <td>0.0</td>\n",
       "      <td>0</td>\n",
       "      <td>0</td>\n",
       "      <td>1</td>\n",
       "    </tr>\n",
       "    <tr>\n",
       "      <th>6</th>\n",
       "      <td>NaN</td>\n",
       "      <td>1</td>\n",
       "      <td>0</td>\n",
       "      <td>0</td>\n",
       "    </tr>\n",
       "    <tr>\n",
       "      <th>7</th>\n",
       "      <td>0.0</td>\n",
       "      <td>0</td>\n",
       "      <td>0</td>\n",
       "      <td>0</td>\n",
       "    </tr>\n",
       "    <tr>\n",
       "      <th>8</th>\n",
       "      <td>1.0</td>\n",
       "      <td>1</td>\n",
       "      <td>1</td>\n",
       "      <td>1</td>\n",
       "    </tr>\n",
       "  </tbody>\n",
       "</table>\n",
       "</div>"
      ],
      "text/plain": [
       "   nike  head  boss  lacoste\n",
       "0   1.0     0     0        0\n",
       "1   1.0     1     0        0\n",
       "2   1.0     1     1        1\n",
       "3   0.0     1     0        1\n",
       "4   0.0     0     0        0\n",
       "5   0.0     0     0        1\n",
       "6   NaN     1     0        0\n",
       "7   0.0     0     0        0\n",
       "8   1.0     1     1        1"
      ]
     },
     "execution_count": 9,
     "metadata": {},
     "output_type": "execute_result"
    }
   ],
   "source": [
    "import pandas as pd\n",
    "\n",
    "daten = pd.read_csv(\"C:\\\\Datenfiles\\\\mehrfachantworten.csv\")\n",
    "\n",
    "daten"
   ]
  },
  {
   "cell_type": "markdown",
   "metadata": {},
   "source": [
    "Wie in obiger Tabelle zu sehen, enthält unser Datenfile nur die Werte *1*, *0* und *NaN*. Für die Auswertung spielen *0* und *NaN* keine Rolle, uns interessiert nur der Wert *1* (man kennt die Marke).\n",
    "\n",
    "Dieser kurze Datensatz ist leicht visuell überprüfbar. Längere Datensätze müsste man mit anderen Methoden prüfen, schließlich will man wissen, welche Werte der Datensatz enthält."
   ]
  },
  {
   "cell_type": "markdown",
   "metadata": {},
   "source": [
    "### 12.1) Überprüfung des Datensatzes\n",
    "\n",
    "Bspw. kann man eine einfache Häufikgeitsauszählung der 4 Variablen durchführen um zu sehen, welche Werte in den einzelnen Variablen enthalten sind. Um die Werte jeder einzelnen unserer 4 Variablen angezeigt zu bekommen, stellen wir folgende **for**-Schleife auf. Damit wird **value_counts()** für jede der 4 Variablen ausgeführt."
   ]
  },
  {
   "cell_type": "code",
   "execution_count": 10,
   "metadata": {},
   "outputs": [
    {
     "name": "stdout",
     "output_type": "stream",
     "text": [
      "0.0    4\n",
      "1.0    4\n",
      "NaN    1\n",
      "Name: nike, dtype: int64 \n",
      "\n",
      "1    5\n",
      "0    4\n",
      "Name: head, dtype: int64 \n",
      "\n",
      "0    7\n",
      "1    2\n",
      "Name: boss, dtype: int64 \n",
      "\n",
      "0    5\n",
      "1    4\n",
      "Name: lacoste, dtype: int64 \n",
      "\n"
     ]
    }
   ],
   "source": [
    "for col in daten.columns:\n",
    "    print(daten[col].value_counts(dropna = False),'\\n')\n",
    "    \n",
    "# 'dropna = False', damit auch allfällige 'NaN' ausgegeben werden.\n",
    "# '\\n' für eine Leerzeile nach jeder Variable aus Gründen der Übersichtlichkeit"
   ]
  },
  {
   "cell_type": "markdown",
   "metadata": {},
   "source": [
    "Wie zu sehen (linke Spalte: Werte, rechte Spalte: Häufigkeit des Vorkommens dieser Werte), enthält jede der 4 Variablen die Werte *0* und *1*, sowie die Variable *nike* zusätzlich noch einmal *NaN*. Wir können mit diesen Daten also weiterarbeiten."
   ]
  },
  {
   "cell_type": "markdown",
   "metadata": {},
   "source": [
    "### 12.2) Summe der Nennungen pro Variable\n",
    "\n",
    "Wir berechnen nun die Summe der Nennungen pro Variable, d.h. alle *1*er werden aufsummiert, *0* und *NaN* spielen keine Rolle für die Summenbildung. ACHTUNG: Die einfache Summenbildung, die hier angewandt wird, funktioniert natürlich nur, wenn nur *1*, *0* oder *NaN* vorkommen und uns die *1* Nennungen interessieren. Würden auch andere Zahlen (z.B. *2*, *3* usw.) vorkommen, funktioniert dies nicht! Typischerweise werden Mehrfachantworten in Umfragen aber mit 0/1 kodiert. Sind unterschiedliche Zahlenwerte vorhanden oder soll ein anderer Wert als *1* gezählt werden, helfen die Ausführungen in Kapitel 9 weiter.\n",
    "\n",
    "[pandas.DataFrame.sum](https://pandas.pydata.org/pandas-docs/stable/reference/api/pandas.DataFrame.sum.html)\n",
    "\n",
    "[Pandas: sum DataFrame rows for given columns](https://stackoverflow.com/questions/25748683/pandas-sum-dataframe-rows-for-given-columns)\n"
   ]
  },
  {
   "cell_type": "code",
   "execution_count": 11,
   "metadata": {},
   "outputs": [
    {
     "data": {
      "text/plain": [
       "boss       2.0\n",
       "nike       4.0\n",
       "lacoste    4.0\n",
       "head       5.0\n",
       "dtype: float64"
      ]
     },
     "execution_count": 11,
     "metadata": {},
     "output_type": "execute_result"
    }
   ],
   "source": [
    "summe = daten[['nike', 'head', 'boss', 'lacoste']].sum(axis = 0).sort_values(ascending = True)\n",
    "\n",
    "# 'ascending=True' zeigt es zwar in der Tabelle aufsteigend an, aber im Balkendiagramm absteigend (wie es sein soll)!\n",
    "\n",
    "summe"
   ]
  },
  {
   "cell_type": "code",
   "execution_count": 12,
   "metadata": {},
   "outputs": [
    {
     "data": {
      "image/png": "[encoded data removed]",
      "text/plain": [
       "<Figure size 432x288 with 1 Axes>"
      ]
     },
     "metadata": {
      "needs_background": "light"
     },
     "output_type": "display_data"
    }
   ],
   "source": [
    "ax = summe.plot.barh()"
   ]
  },
  {
   "cell_type": "markdown",
   "metadata": {},
   "source": [
    "### 12.3) Prozentwerte der Nennungen pro Variable\n",
    "\n",
    "Die vorhin berechneten Summen lassen sich auch in relative Häufigkeiten, also Prozentwerte, umrechnen. Dazu ermitteln wir mit **len()** die Anzahl der Zeilen im Dataframe.\n",
    "\n",
    "[How do I get the row count of a Pandas DataFrame?](https://stackoverflow.com/questions/15943769/how-do-i-get-the-row-count-of-a-pandas-dataframe)"
   ]
  },
  {
   "cell_type": "code",
   "execution_count": 13,
   "metadata": {},
   "outputs": [
    {
     "data": {
      "text/plain": [
       "9"
      ]
     },
     "execution_count": 13,
     "metadata": {},
     "output_type": "execute_result"
    }
   ],
   "source": [
    "len(daten.index)"
   ]
  },
  {
   "cell_type": "markdown",
   "metadata": {},
   "source": [
    "Nun werden die Summen pro Variable durch die Anzahl der Zeilen des Dataframes dividiert. Dies ergibt die relativen Häufigkeiten (Prozentwerte)."
   ]
  },
  {
   "cell_type": "code",
   "execution_count": 14,
   "metadata": {},
   "outputs": [
    {
     "data": {
      "text/plain": [
       "boss       22.2\n",
       "nike       44.4\n",
       "lacoste    44.4\n",
       "head       55.6\n",
       "dtype: float64"
      ]
     },
     "execution_count": 14,
     "metadata": {},
     "output_type": "execute_result"
    }
   ],
   "source": [
    "prozent = ((summe/len(daten.index))*100).round(2)\n",
    "\n",
    "prozent.round(1)"
   ]
  },
  {
   "cell_type": "code",
   "execution_count": 15,
   "metadata": {},
   "outputs": [
    {
     "data": {
      "image/png": "[encoded data removed]",
      "text/plain": [
       "<Figure size 432x288 with 1 Axes>"
      ]
     },
     "metadata": {
      "needs_background": "light"
     },
     "output_type": "display_data"
    }
   ],
   "source": [
    "ax = prozent.plot.barh()"
   ]
  },
  {
   "cell_type": "markdown",
   "metadata": {},
   "source": [
    "##### Absolute Häufigkeiten und Prozentwerte in einem Dataframe verknüpfen\n",
    "\n",
    "Ziel ist schließlich, alle ermittelten Ergebnisse in einem Dataframe (unsere Outputtabelle) zu verknüpfen. Unsere beiden bisherigen Ergebnisse (absolute und relative Häufigkeiten der Nennungen) verknüpft man wie folgt: Im ersten Schritt werden die beiden Ergebnisse jeweils in ein Dataframe umgewandelt, dabei wird jeweils ein Spaltenname (*Summe* bzw. *Prozent*) sowie ein Name für den Index (*Marke*) vergeben."
   ]
  },
  {
   "cell_type": "code",
   "execution_count": 17,
   "metadata": {},
   "outputs": [],
   "source": [
    "s = pd.DataFrame(summe, columns = [\"Summe der Nennungen\"])\n",
    "s.index.name = \"Marke\"\n",
    "\n",
    "p = pd.DataFrame(prozent, columns = [\"Prozent der Befragten\"])\n",
    "p.index.name = \"Marke\""
   ]
  },
  {
   "cell_type": "markdown",
   "metadata": {},
   "source": [
    "Danach werden diese beiden Dataframes zu einem neuen Dataframe zusammengefügt (dies geschieht anhand des in beiden Dataframes vorhandenen Index *Item*).\n",
    "\n",
    "[pandas.DataFrame.merge](https://pandas.pydata.org/pandas-docs/stable/reference/api/pandas.DataFrame.merge.html)"
   ]
  },
  {
   "cell_type": "code",
   "execution_count": 18,
   "metadata": {},
   "outputs": [
    {
     "data": {
      "text/html": [
       "<div>\n",
       "<style scoped>\n",
       "    .dataframe tbody tr th:only-of-type {\n",
       "        vertical-align: middle;\n",
       "    }\n",
       "\n",
       "    .dataframe tbody tr th {\n",
       "        vertical-align: top;\n",
       "    }\n",
       "\n",
       "    .dataframe thead th {\n",
       "        text-align: right;\n",
       "    }\n",
       "</style>\n",
       "<table border=\"1\" class=\"dataframe\">\n",
       "  <thead>\n",
       "    <tr style=\"text-align: right;\">\n",
       "      <th></th>\n",
       "      <th>Summe der Nennungen</th>\n",
       "      <th>Prozent der Befragten</th>\n",
       "    </tr>\n",
       "    <tr>\n",
       "      <th>Marke</th>\n",
       "      <th></th>\n",
       "      <th></th>\n",
       "    </tr>\n",
       "  </thead>\n",
       "  <tbody>\n",
       "    <tr>\n",
       "      <th>boss</th>\n",
       "      <td>2.0</td>\n",
       "      <td>22.22</td>\n",
       "    </tr>\n",
       "    <tr>\n",
       "      <th>nike</th>\n",
       "      <td>4.0</td>\n",
       "      <td>44.44</td>\n",
       "    </tr>\n",
       "    <tr>\n",
       "      <th>lacoste</th>\n",
       "      <td>4.0</td>\n",
       "      <td>44.44</td>\n",
       "    </tr>\n",
       "    <tr>\n",
       "      <th>head</th>\n",
       "      <td>5.0</td>\n",
       "      <td>55.56</td>\n",
       "    </tr>\n",
       "  </tbody>\n",
       "</table>\n",
       "</div>"
      ],
      "text/plain": [
       "         Summe der Nennungen  Prozent der Befragten\n",
       "Marke                                              \n",
       "boss                     2.0                  22.22\n",
       "nike                     4.0                  44.44\n",
       "lacoste                  4.0                  44.44\n",
       "head                     5.0                  55.56"
      ]
     },
     "execution_count": 18,
     "metadata": {},
     "output_type": "execute_result"
    }
   ],
   "source": [
    "set1 = pd.merge(s, p, how = 'outer', on = 'Marke')\n",
    "\n",
    "set1"
   ]
  },
  {
   "cell_type": "markdown",
   "metadata": {},
   "source": [
    "Fertig ist unsere erste Outputtabelle. Es gibt aber noch 2 weitere Auswertungsmöglichkeiten, die wir dieser Tabelle hinzufügen können."
   ]
  },
  {
   "cell_type": "markdown",
   "metadata": {},
   "source": [
    "### 12.4) Prozent der potenziell möglichen Nennungen\n",
    "\n",
    "Ev. interessiert uns, wie groß der Anteil der abgegebenen Nennungen relativ zu den insgesamt theoretisch möglichen Nennungen ist. Dazu wird mit **len()** die Anzahl der Spalten (Variablen) ermittelt. ACHTUNG: Dies funktioniert nur, wenn alle im Dataframe vorhandenen Spalten in die Analyse einfließen - wie es in unserem Beispiel der Fall ist. Man kann auf **len()** auch verzichten und in weiterer Folge einfach '4' eintragen, da wir 4 interessierende Spalten haben, bzw. '9' für die Anzahl der Zeilen."
   ]
  },
  {
   "cell_type": "code",
   "execution_count": 19,
   "metadata": {},
   "outputs": [
    {
     "data": {
      "text/plain": [
       "4"
      ]
     },
     "execution_count": 19,
     "metadata": {},
     "output_type": "execute_result"
    }
   ],
   "source": [
    "len(daten.columns)"
   ]
  },
  {
   "cell_type": "markdown",
   "metadata": {},
   "source": [
    "Nun wird die Gesamtzahl der Zellen ermittelt..."
   ]
  },
  {
   "cell_type": "code",
   "execution_count": 20,
   "metadata": {},
   "outputs": [],
   "source": [
    "zellen = (len(daten.index)*len(daten.columns))"
   ]
  },
  {
   "cell_type": "markdown",
   "metadata": {},
   "source": [
    "... und unsere Häufigkeiten dazu in Beziehung gesetzt."
   ]
  },
  {
   "cell_type": "code",
   "execution_count": 21,
   "metadata": {},
   "outputs": [
    {
     "data": {
      "text/plain": [
       "Marke\n",
       "boss        5.56\n",
       "nike       11.11\n",
       "lacoste    11.11\n",
       "head       13.89\n",
       "dtype: float64"
      ]
     },
     "execution_count": 21,
     "metadata": {},
     "output_type": "execute_result"
    }
   ],
   "source": [
    "prozent2 = ((summe/zellen)*100).round(2)\n",
    "\n",
    "prozent2"
   ]
  },
  {
   "cell_type": "code",
   "execution_count": 22,
   "metadata": {},
   "outputs": [
    {
     "data": {
      "image/png": "[encoded data removed]",
      "text/plain": [
       "<Figure size 432x288 with 1 Axes>"
      ]
     },
     "metadata": {
      "needs_background": "light"
     },
     "output_type": "display_data"
    }
   ],
   "source": [
    "ax = prozent2.plot.barh()"
   ]
  },
  {
   "cell_type": "markdown",
   "metadata": {},
   "source": [
    "Schließlich wird dieses Ergebnis noch in ein Dataframe umgewandelt."
   ]
  },
  {
   "cell_type": "code",
   "execution_count": 24,
   "metadata": {},
   "outputs": [
    {
     "data": {
      "text/html": [
       "<div>\n",
       "<style scoped>\n",
       "    .dataframe tbody tr th:only-of-type {\n",
       "        vertical-align: middle;\n",
       "    }\n",
       "\n",
       "    .dataframe tbody tr th {\n",
       "        vertical-align: top;\n",
       "    }\n",
       "\n",
       "    .dataframe thead th {\n",
       "        text-align: right;\n",
       "    }\n",
       "</style>\n",
       "<table border=\"1\" class=\"dataframe\">\n",
       "  <thead>\n",
       "    <tr style=\"text-align: right;\">\n",
       "      <th></th>\n",
       "      <th>Prozent d ges mögl Nennungen</th>\n",
       "    </tr>\n",
       "    <tr>\n",
       "      <th>Marke</th>\n",
       "      <th></th>\n",
       "    </tr>\n",
       "  </thead>\n",
       "  <tbody>\n",
       "    <tr>\n",
       "      <th>boss</th>\n",
       "      <td>5.56</td>\n",
       "    </tr>\n",
       "    <tr>\n",
       "      <th>nike</th>\n",
       "      <td>11.11</td>\n",
       "    </tr>\n",
       "    <tr>\n",
       "      <th>lacoste</th>\n",
       "      <td>11.11</td>\n",
       "    </tr>\n",
       "    <tr>\n",
       "      <th>head</th>\n",
       "      <td>13.89</td>\n",
       "    </tr>\n",
       "  </tbody>\n",
       "</table>\n",
       "</div>"
      ],
      "text/plain": [
       "         Prozent d ges mögl Nennungen\n",
       "Marke                                \n",
       "boss                             5.56\n",
       "nike                            11.11\n",
       "lacoste                         11.11\n",
       "head                            13.89"
      ]
     },
     "execution_count": 24,
     "metadata": {},
     "output_type": "execute_result"
    }
   ],
   "source": [
    "p2 = pd.DataFrame(prozent2, columns = ['Prozent d ges mögl Nennungen'])\n",
    "\n",
    "p2.index.name = 'Marke'\n",
    "\n",
    "p2"
   ]
  },
  {
   "cell_type": "markdown",
   "metadata": {},
   "source": [
    "### 12.5) Prozent der gesamten tatsächlichen Nennungen\n",
    "\n",
    "Auch die relative Anzahl unserer Häufigkeiten pro Variable an den gesamten abgegebenen Nennungen über alle Variablen hinweg können wir berechnen. Ermitteln wir dazu zuerst die Summe aller abgegebenen Nennungen (über alle 4 Variablen hinweg)..."
   ]
  },
  {
   "cell_type": "code",
   "execution_count": 25,
   "metadata": {},
   "outputs": [
    {
     "data": {
      "text/plain": [
       "15.0"
      ]
     },
     "execution_count": 25,
     "metadata": {},
     "output_type": "execute_result"
    }
   ],
   "source": [
    "anzahl = summe.sum(axis = 0)\n",
    "\n",
    "anzahl"
   ]
  },
  {
   "cell_type": "markdown",
   "metadata": {},
   "source": [
    "... und setzen unsere Häufigkeiten pro Variable nun dazu in Beziehung."
   ]
  },
  {
   "cell_type": "code",
   "execution_count": 26,
   "metadata": {},
   "outputs": [
    {
     "data": {
      "text/plain": [
       "Marke\n",
       "boss       13.33\n",
       "nike       26.67\n",
       "lacoste    26.67\n",
       "head       33.33\n",
       "dtype: float64"
      ]
     },
     "execution_count": 26,
     "metadata": {},
     "output_type": "execute_result"
    }
   ],
   "source": [
    "prozent3 = ((summe/anzahl)*100).round(2)\n",
    "\n",
    "prozent3"
   ]
  },
  {
   "cell_type": "code",
   "execution_count": 27,
   "metadata": {},
   "outputs": [
    {
     "data": {
      "image/png": "[encoded data removed]",
      "text/plain": [
       "<Figure size 432x288 with 1 Axes>"
      ]
     },
     "metadata": {
      "needs_background": "light"
     },
     "output_type": "display_data"
    }
   ],
   "source": [
    "ax = prozent3.plot.barh()"
   ]
  },
  {
   "cell_type": "markdown",
   "metadata": {},
   "source": [
    "Schließlich überführen wir auch dieses Ergebnis in ein Dataframe."
   ]
  },
  {
   "cell_type": "code",
   "execution_count": 28,
   "metadata": {},
   "outputs": [
    {
     "data": {
      "text/html": [
       "<div>\n",
       "<style scoped>\n",
       "    .dataframe tbody tr th:only-of-type {\n",
       "        vertical-align: middle;\n",
       "    }\n",
       "\n",
       "    .dataframe tbody tr th {\n",
       "        vertical-align: top;\n",
       "    }\n",
       "\n",
       "    .dataframe thead th {\n",
       "        text-align: right;\n",
       "    }\n",
       "</style>\n",
       "<table border=\"1\" class=\"dataframe\">\n",
       "  <thead>\n",
       "    <tr style=\"text-align: right;\">\n",
       "      <th></th>\n",
       "      <th>Prozent d ges tats Nennungen</th>\n",
       "    </tr>\n",
       "    <tr>\n",
       "      <th>Marke</th>\n",
       "      <th></th>\n",
       "    </tr>\n",
       "  </thead>\n",
       "  <tbody>\n",
       "    <tr>\n",
       "      <th>boss</th>\n",
       "      <td>13.33</td>\n",
       "    </tr>\n",
       "    <tr>\n",
       "      <th>nike</th>\n",
       "      <td>26.67</td>\n",
       "    </tr>\n",
       "    <tr>\n",
       "      <th>lacoste</th>\n",
       "      <td>26.67</td>\n",
       "    </tr>\n",
       "    <tr>\n",
       "      <th>head</th>\n",
       "      <td>33.33</td>\n",
       "    </tr>\n",
       "  </tbody>\n",
       "</table>\n",
       "</div>"
      ],
      "text/plain": [
       "         Prozent d ges tats Nennungen\n",
       "Marke                                \n",
       "boss                            13.33\n",
       "nike                            26.67\n",
       "lacoste                         26.67\n",
       "head                            33.33"
      ]
     },
     "execution_count": 28,
     "metadata": {},
     "output_type": "execute_result"
    }
   ],
   "source": [
    "p3 = pd.DataFrame(prozent3, columns = [\"Prozent d ges tats Nennungen\"])\n",
    "\n",
    "p3.index.name = \"Marke\"\n",
    "\n",
    "p3"
   ]
  },
  {
   "cell_type": "markdown",
   "metadata": {},
   "source": [
    "### 12.6) Zusammenführung in finales Dataframe, Grafiken, Output speichern\n",
    "\n",
    "Jetzt müssen wir unsere beiden letzten Ergebnisse noch in unser weiter oben bereits begonnenes finales Outputdataframe einfügen. Man kann jeweils 2 Dataframes zusammenführen. In den beiden folgenden Schritten wird somit jeweils ein weiteres Ergebnis in unser finales Dataframe integriert."
   ]
  },
  {
   "cell_type": "code",
   "execution_count": 29,
   "metadata": {},
   "outputs": [
    {
     "data": {
      "text/html": [
       "<div>\n",
       "<style scoped>\n",
       "    .dataframe tbody tr th:only-of-type {\n",
       "        vertical-align: middle;\n",
       "    }\n",
       "\n",
       "    .dataframe tbody tr th {\n",
       "        vertical-align: top;\n",
       "    }\n",
       "\n",
       "    .dataframe thead th {\n",
       "        text-align: right;\n",
       "    }\n",
       "</style>\n",
       "<table border=\"1\" class=\"dataframe\">\n",
       "  <thead>\n",
       "    <tr style=\"text-align: right;\">\n",
       "      <th></th>\n",
       "      <th>Summe der Nennungen</th>\n",
       "      <th>Prozent der Befragten</th>\n",
       "      <th>Prozent d ges mögl Nennungen</th>\n",
       "    </tr>\n",
       "    <tr>\n",
       "      <th>Marke</th>\n",
       "      <th></th>\n",
       "      <th></th>\n",
       "      <th></th>\n",
       "    </tr>\n",
       "  </thead>\n",
       "  <tbody>\n",
       "    <tr>\n",
       "      <th>boss</th>\n",
       "      <td>2.0</td>\n",
       "      <td>22.22</td>\n",
       "      <td>5.56</td>\n",
       "    </tr>\n",
       "    <tr>\n",
       "      <th>nike</th>\n",
       "      <td>4.0</td>\n",
       "      <td>44.44</td>\n",
       "      <td>11.11</td>\n",
       "    </tr>\n",
       "    <tr>\n",
       "      <th>lacoste</th>\n",
       "      <td>4.0</td>\n",
       "      <td>44.44</td>\n",
       "      <td>11.11</td>\n",
       "    </tr>\n",
       "    <tr>\n",
       "      <th>head</th>\n",
       "      <td>5.0</td>\n",
       "      <td>55.56</td>\n",
       "      <td>13.89</td>\n",
       "    </tr>\n",
       "  </tbody>\n",
       "</table>\n",
       "</div>"
      ],
      "text/plain": [
       "         Summe der Nennungen  Prozent der Befragten  \\\n",
       "Marke                                                 \n",
       "boss                     2.0                  22.22   \n",
       "nike                     4.0                  44.44   \n",
       "lacoste                  4.0                  44.44   \n",
       "head                     5.0                  55.56   \n",
       "\n",
       "         Prozent d ges mögl Nennungen  \n",
       "Marke                                  \n",
       "boss                             5.56  \n",
       "nike                            11.11  \n",
       "lacoste                         11.11  \n",
       "head                            13.89  "
      ]
     },
     "execution_count": 29,
     "metadata": {},
     "output_type": "execute_result"
    }
   ],
   "source": [
    "set2 = pd.merge(set1, p2, how = 'outer', on = 'Marke')\n",
    "\n",
    "set2"
   ]
  },
  {
   "cell_type": "code",
   "execution_count": 30,
   "metadata": {},
   "outputs": [
    {
     "data": {
      "text/html": [
       "<div>\n",
       "<style scoped>\n",
       "    .dataframe tbody tr th:only-of-type {\n",
       "        vertical-align: middle;\n",
       "    }\n",
       "\n",
       "    .dataframe tbody tr th {\n",
       "        vertical-align: top;\n",
       "    }\n",
       "\n",
       "    .dataframe thead th {\n",
       "        text-align: right;\n",
       "    }\n",
       "</style>\n",
       "<table border=\"1\" class=\"dataframe\">\n",
       "  <thead>\n",
       "    <tr style=\"text-align: right;\">\n",
       "      <th></th>\n",
       "      <th>Summe der Nennungen</th>\n",
       "      <th>Prozent der Befragten</th>\n",
       "      <th>Prozent d ges mögl Nennungen</th>\n",
       "      <th>Prozent d ges tats Nennungen</th>\n",
       "    </tr>\n",
       "    <tr>\n",
       "      <th>Marke</th>\n",
       "      <th></th>\n",
       "      <th></th>\n",
       "      <th></th>\n",
       "      <th></th>\n",
       "    </tr>\n",
       "  </thead>\n",
       "  <tbody>\n",
       "    <tr>\n",
       "      <th>boss</th>\n",
       "      <td>2.0</td>\n",
       "      <td>22.22</td>\n",
       "      <td>5.56</td>\n",
       "      <td>13.33</td>\n",
       "    </tr>\n",
       "    <tr>\n",
       "      <th>nike</th>\n",
       "      <td>4.0</td>\n",
       "      <td>44.44</td>\n",
       "      <td>11.11</td>\n",
       "      <td>26.67</td>\n",
       "    </tr>\n",
       "    <tr>\n",
       "      <th>lacoste</th>\n",
       "      <td>4.0</td>\n",
       "      <td>44.44</td>\n",
       "      <td>11.11</td>\n",
       "      <td>26.67</td>\n",
       "    </tr>\n",
       "    <tr>\n",
       "      <th>head</th>\n",
       "      <td>5.0</td>\n",
       "      <td>55.56</td>\n",
       "      <td>13.89</td>\n",
       "      <td>33.33</td>\n",
       "    </tr>\n",
       "  </tbody>\n",
       "</table>\n",
       "</div>"
      ],
      "text/plain": [
       "         Summe der Nennungen  Prozent der Befragten  \\\n",
       "Marke                                                 \n",
       "boss                     2.0                  22.22   \n",
       "nike                     4.0                  44.44   \n",
       "lacoste                  4.0                  44.44   \n",
       "head                     5.0                  55.56   \n",
       "\n",
       "         Prozent d ges mögl Nennungen  Prozent d ges tats Nennungen  \n",
       "Marke                                                                \n",
       "boss                             5.56                         13.33  \n",
       "nike                            11.11                         26.67  \n",
       "lacoste                         11.11                         26.67  \n",
       "head                            13.89                         33.33  "
      ]
     },
     "execution_count": 30,
     "metadata": {},
     "output_type": "execute_result"
    }
   ],
   "source": [
    "set3 = pd.merge(set2, p3, how = 'outer', on = 'Marke')\n",
    "\n",
    "set3"
   ]
  },
  {
   "cell_type": "markdown",
   "metadata": {},
   "source": [
    "Sehen wir uns diese finalen Ergebnisse nun noch grafisch an. "
   ]
  },
  {
   "cell_type": "code",
   "execution_count": 31,
   "metadata": {},
   "outputs": [
    {
     "data": {
      "image/png": "[encoded data removed]",
      "text/plain": [
       "<Figure size 612x324 with 1 Axes>"
      ]
     },
     "metadata": {
      "needs_background": "light"
     },
     "output_type": "display_data"
    }
   ],
   "source": [
    "ax = set3[['Prozent der Befragten', 'Prozent d ges mögl Nennungen',\n",
    "           'Prozent d ges tats Nennungen']].plot.barh(figsize = (8.5,4.5))\n",
    "\n",
    "# 'ax = set3.plot.barh(figsize = (8.5,4.5))' um alles (also alle 4 Balken pro Marke) zu visualisieren;\n",
    "# dies macht aber nicht viel Sinn, da Prozentwerte und absolute Häufigkeiten vermischt würden."
   ]
  },
  {
   "cell_type": "markdown",
   "metadata": {},
   "source": [
    "Sortieren wird die Balken noch der Länge nach absteigend..."
   ]
  },
  {
   "cell_type": "code",
   "execution_count": 32,
   "metadata": {},
   "outputs": [
    {
     "data": {
      "image/png": "[encoded data removed]",
      "text/plain": [
       "<Figure size 612x324 with 1 Axes>"
      ]
     },
     "metadata": {
      "needs_background": "light"
     },
     "output_type": "display_data"
    }
   ],
   "source": [
    "ax = set3[['Prozent d ges mögl Nennungen',\n",
    "           'Prozent d ges tats Nennungen', 'Prozent der Befragten']].plot.barh(figsize = (8.5,4.5))\n",
    "\n",
    "# gleich Grafik wie vorhin, nur sind die Balken nun nach Größe angeordnet..."
   ]
  },
  {
   "cell_type": "markdown",
   "metadata": {},
   "source": [
    "##### \"Styling\" der Outputtabelle\n",
    "\n",
    "Man kann die Outputtabelle auch gestalten, z.B. in die Beschriftung der X-Achse '%' einfügen. Dies hat jedoch nur ästethische Auswirkungen und wird nicht im Dataframe zur weiteren Verwendung gespeichert.\n",
    "\n",
    "[Finer Control: Display Values](https://pandas.pydata.org/pandas-docs/stable/user_guide/style.html#Finer-Control:-Display-Values)"
   ]
  },
  {
   "cell_type": "code",
   "execution_count": 38,
   "metadata": {},
   "outputs": [
    {
     "data": {
      "text/html": [
       "<style  type=\"text/css\" >\n",
       "</style><table id=\"T_c2a0f_\" ><thead>    <tr>        <th class=\"blank level0\" ></th>        <th class=\"col_heading level0 col0\" >Summe der Nennungen</th>        <th class=\"col_heading level0 col1\" >Prozent der Befragten</th>        <th class=\"col_heading level0 col2\" >Prozent d ges mögl Nennungen</th>        <th class=\"col_heading level0 col3\" >Prozent d ges tats Nennungen</th>    </tr>    <tr>        <th class=\"index_name level0\" >Marke</th>        <th class=\"blank\" ></th>        <th class=\"blank\" ></th>        <th class=\"blank\" ></th>        <th class=\"blank\" ></th>    </tr></thead><tbody>\n",
       "                <tr>\n",
       "                        <th id=\"T_c2a0f_level0_row0\" class=\"row_heading level0 row0\" >boss</th>\n",
       "                        <td id=\"T_c2a0f_row0_col0\" class=\"data row0 col0\" >2</td>\n",
       "                        <td id=\"T_c2a0f_row0_col1\" class=\"data row0 col1\" >22.2%</td>\n",
       "                        <td id=\"T_c2a0f_row0_col2\" class=\"data row0 col2\" >5.6%</td>\n",
       "                        <td id=\"T_c2a0f_row0_col3\" class=\"data row0 col3\" >13.3%</td>\n",
       "            </tr>\n",
       "            <tr>\n",
       "                        <th id=\"T_c2a0f_level0_row1\" class=\"row_heading level0 row1\" >nike</th>\n",
       "                        <td id=\"T_c2a0f_row1_col0\" class=\"data row1 col0\" >4</td>\n",
       "                        <td id=\"T_c2a0f_row1_col1\" class=\"data row1 col1\" >44.4%</td>\n",
       "                        <td id=\"T_c2a0f_row1_col2\" class=\"data row1 col2\" >11.1%</td>\n",
       "                        <td id=\"T_c2a0f_row1_col3\" class=\"data row1 col3\" >26.7%</td>\n",
       "            </tr>\n",
       "            <tr>\n",
       "                        <th id=\"T_c2a0f_level0_row2\" class=\"row_heading level0 row2\" >lacoste</th>\n",
       "                        <td id=\"T_c2a0f_row2_col0\" class=\"data row2 col0\" >4</td>\n",
       "                        <td id=\"T_c2a0f_row2_col1\" class=\"data row2 col1\" >44.4%</td>\n",
       "                        <td id=\"T_c2a0f_row2_col2\" class=\"data row2 col2\" >11.1%</td>\n",
       "                        <td id=\"T_c2a0f_row2_col3\" class=\"data row2 col3\" >26.7%</td>\n",
       "            </tr>\n",
       "            <tr>\n",
       "                        <th id=\"T_c2a0f_level0_row3\" class=\"row_heading level0 row3\" >head</th>\n",
       "                        <td id=\"T_c2a0f_row3_col0\" class=\"data row3 col0\" >5</td>\n",
       "                        <td id=\"T_c2a0f_row3_col1\" class=\"data row3 col1\" >55.6%</td>\n",
       "                        <td id=\"T_c2a0f_row3_col2\" class=\"data row3 col2\" >13.9%</td>\n",
       "                        <td id=\"T_c2a0f_row3_col3\" class=\"data row3 col3\" >33.3%</td>\n",
       "            </tr>\n",
       "    </tbody></table>"
      ],
      "text/plain": [
       "<pandas.io.formats.style.Styler at 0x2618e372488>"
      ]
     },
     "execution_count": 38,
     "metadata": {},
     "output_type": "execute_result"
    }
   ],
   "source": [
    "set3.style.format({\n",
    "    \"Summe der Nennungen\" : \"{:.0f}\", # 0 Dezimalstellen\n",
    "    'Prozent der Befragten' : '{:.1f}%', # 1 Dezimalstelle und '%'\n",
    "    \"Prozent d ges mögl Nennungen\" : \"{:.1f}%\",\n",
    "    \"Prozent d ges tats Nennungen\" : \"{:.1f}%\"\n",
    "})"
   ]
  },
  {
   "cell_type": "markdown",
   "metadata": {},
   "source": [
    "##### Speichern des Dataframes\n",
    "\n",
    "Obige Tabelle (ohne das \"Styling\") kann mit **to_clipboard()** exportiert (d.h. in die Zwischenablage kopiert) werden, damit man sie dann bspw. leicht in Excel oder ähnlichen Programmen einfügen und weiterverwenden kann."
   ]
  },
  {
   "cell_type": "code",
   "execution_count": 34,
   "metadata": {},
   "outputs": [],
   "source": [
    "set3.to_clipboard(decimal = \",\")\n",
    "\n",
    "# Angabe von 'decimal = \",\"' ist wichtig, da ansonsten ein '.' als Dezimaltrennzeichen verwendet wird;\n",
    "# dies ist im deutschsprachigen Raum jedoch nicht üblich und führt zu Problemen, bspw. wenn man den Output in eine Excel-Tabelle einfügt."
   ]
  },
  {
   "cell_type": "markdown",
   "metadata": {},
   "source": [
    "### Exkurs: Aufruf der Funktion **mr()** zur Auswertungen von Mehrfachantworten\n",
    "\n",
    "Alles was in diesem Notebook bisher behandelt wurde, habe ich in der Funktion **mr()** zusammengefasst. Unter folgendem Link finden sich alle weiteren Infos dazu:\n",
    "\n",
    "[mr - multiple responses](https://github.com/manfred2020/multiple-responses)"
   ]
  },
  {
   "cell_type": "code",
   "execution_count": 35,
   "metadata": {},
   "outputs": [],
   "source": [
    "from mr import mr # Import der Funktion 'mr' aus dem Modul (dem File) 'mr'"
   ]
  },
  {
   "cell_type": "code",
   "execution_count": 37,
   "metadata": {},
   "outputs": [
    {
     "data": {
      "text/html": [
       "<style  type=\"text/css\" >\n",
       "</style><table id=\"T_84dfe_\" ><thead>    <tr>        <th class=\"blank level0\" ></th>        <th class=\"col_heading level0 col0\" >Anz Nennungen</th>        <th class=\"col_heading level0 col1\" >% Befragte</th>        <th class=\"col_heading level0 col2\" >% mögl Nennungen</th>        <th class=\"col_heading level0 col3\" >% tatsächl Nennungen</th>    </tr></thead><tbody>\n",
       "                <tr>\n",
       "                        <th id=\"T_84dfe_level0_row0\" class=\"row_heading level0 row0\" >boss</th>\n",
       "                        <td id=\"T_84dfe_row0_col0\" class=\"data row0 col0\" >2</td>\n",
       "                        <td id=\"T_84dfe_row0_col1\" class=\"data row0 col1\" >22.2%</td>\n",
       "                        <td id=\"T_84dfe_row0_col2\" class=\"data row0 col2\" >5.6%</td>\n",
       "                        <td id=\"T_84dfe_row0_col3\" class=\"data row0 col3\" >13.3%</td>\n",
       "            </tr>\n",
       "            <tr>\n",
       "                        <th id=\"T_84dfe_level0_row1\" class=\"row_heading level0 row1\" >nike</th>\n",
       "                        <td id=\"T_84dfe_row1_col0\" class=\"data row1 col0\" >4</td>\n",
       "                        <td id=\"T_84dfe_row1_col1\" class=\"data row1 col1\" >44.4%</td>\n",
       "                        <td id=\"T_84dfe_row1_col2\" class=\"data row1 col2\" >11.1%</td>\n",
       "                        <td id=\"T_84dfe_row1_col3\" class=\"data row1 col3\" >26.7%</td>\n",
       "            </tr>\n",
       "            <tr>\n",
       "                        <th id=\"T_84dfe_level0_row2\" class=\"row_heading level0 row2\" >lacoste</th>\n",
       "                        <td id=\"T_84dfe_row2_col0\" class=\"data row2 col0\" >4</td>\n",
       "                        <td id=\"T_84dfe_row2_col1\" class=\"data row2 col1\" >44.4%</td>\n",
       "                        <td id=\"T_84dfe_row2_col2\" class=\"data row2 col2\" >11.1%</td>\n",
       "                        <td id=\"T_84dfe_row2_col3\" class=\"data row2 col3\" >26.7%</td>\n",
       "            </tr>\n",
       "            <tr>\n",
       "                        <th id=\"T_84dfe_level0_row3\" class=\"row_heading level0 row3\" >head</th>\n",
       "                        <td id=\"T_84dfe_row3_col0\" class=\"data row3 col0\" >5</td>\n",
       "                        <td id=\"T_84dfe_row3_col1\" class=\"data row3 col1\" >55.6%</td>\n",
       "                        <td id=\"T_84dfe_row3_col2\" class=\"data row3 col2\" >13.9%</td>\n",
       "                        <td id=\"T_84dfe_row3_col3\" class=\"data row3 col3\" >33.3%</td>\n",
       "            </tr>\n",
       "    </tbody></table>"
      ],
      "text/plain": [
       "<pandas.io.formats.style.Styler at 0x2618e316b88>"
      ]
     },
     "metadata": {},
     "output_type": "display_data"
    },
    {
     "data": {
      "image/png": "[encoded data removed]",
      "text/plain": [
       "<Figure size 612x324 with 1 Axes>"
      ]
     },
     "metadata": {
      "needs_background": "light"
     },
     "output_type": "display_data"
    }
   ],
   "source": [
    "mr(daten, \"nike\", \"head\", \"boss\", \"lacoste\") # das Dataframe 'daten' wurde ja zu Beginn schon importiert\n",
    "\n",
    "# das Dataframe ('daten') sowie die auszuwertenden Spalten werden angegeben. Das war's."
   ]
  },
  {
   "cell_type": "markdown",
   "metadata": {},
   "source": [
    "<table style=\"width:100%; background-color:transparent; font-style:italic\">\n",
    "  <tr style=\"background-color:transparent\">   \n",
    "     <td style=\"text-align:center; background-color:transparent\">https://github.com/manfred2020/DA_mit_Python</td>\n",
    "  </tr>\n",
    "</table>"
   ]
  }
 ],
 "metadata": {
  "kernelspec": {
   "display_name": "Python 3",
   "language": "python",
   "name": "python3"
  },
  "language_info": {
   "codemirror_mode": {
    "name": "ipython",
    "version": 3
   },
   "file_extension": ".py",
   "mimetype": "text/x-python",
   "name": "python",
   "nbconvert_exporter": "python",
   "pygments_lexer": "ipython3",
   "version": "3.7.10"
  }
 },
 "nbformat": 4,
 "nbformat_minor": 4
}
